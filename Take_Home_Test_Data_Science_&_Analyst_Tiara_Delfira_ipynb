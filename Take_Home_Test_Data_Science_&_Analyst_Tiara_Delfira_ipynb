{
  "nbformat": 4,
  "nbformat_minor": 0,
  "metadata": {
    "colab": {
      "provenance": []
    },
    "kernelspec": {
      "name": "python3",
      "display_name": "Python 3"
    },
    "language_info": {
      "name": "python"
    }
  },
  "cells": [
    {
      "cell_type": "code",
      "execution_count": null,
      "metadata": {
        "colab": {
          "base_uri": "https://localhost:8080/"
        },
        "id": "EJ5qJmVnEGjy",
        "outputId": "19313b0b-ed02-4b1d-c27a-cf00003e103f"
      },
      "outputs": [
        {
          "output_type": "stream",
          "name": "stdout",
          "text": [
            "numpy version :  2.0.2\n",
            "pandas version :  2.2.2\n",
            "seaborn version :  0.13.2\n"
          ]
        }
      ],
      "source": [
        "import warnings\n",
        "warnings.filterwarnings('ignore')\n",
        "\n",
        "import numpy as np\n",
        "import pandas as pd\n",
        "import seaborn as sns\n",
        "import matplotlib.pyplot as plt\n",
        "%matplotlib inline\n",
        "\n",
        "from imblearn.over_sampling import SMOTE\n",
        "print('numpy version : ',np.__version__)\n",
        "print('pandas version : ',pd.__version__)\n",
        "print('seaborn version : ',sns.__version__)\n",
        "\n",
        "from mpl_toolkits.mplot3d import Axes3D\n",
        "\n",
        "from sklearn import preprocessing\n",
        "from sklearn.impute import SimpleImputer\n",
        "from sklearn.ensemble import RandomForestClassifier\n",
        "from sklearn.model_selection import train_test_split\n",
        "from sklearn.metrics import accuracy_score, recall_score, confusion_matrix\n",
        "from sklearn.preprocessing import StandardScaler"
      ]
    },
    {
      "cell_type": "markdown",
      "source": [
        "## Tahap 1: Load Data"
      ],
      "metadata": {
        "id": "Umpz5tyGFmr6"
      }
    },
    {
      "cell_type": "code",
      "source": [
        "from google.colab import drive\n",
        "drive.mount('/content/drive')"
      ],
      "metadata": {
        "colab": {
          "base_uri": "https://localhost:8080/"
        },
        "id": "g5-7qRvZELDT",
        "outputId": "a02d462c-aa2b-43cc-8847-b39881a3acb6"
      },
      "execution_count": null,
      "outputs": [
        {
          "output_type": "stream",
          "name": "stdout",
          "text": [
            "Mounted at /content/drive\n"
          ]
        }
      ]
    },
    {
      "cell_type": "code",
      "source": [
        "# path file di google drive\n",
        "file_path = \"/content/drive/MyDrive/Take Home Test - Tiara Delfira/Food_Delivery_Times.csv\"\n",
        "\n",
        "df = pd.read_csv(file_path)"
      ],
      "metadata": {
        "id": "tieu2ZyVEm8Q"
      },
      "execution_count": null,
      "outputs": []
    },
    {
      "cell_type": "code",
      "source": [
        "df.head(), df.info(), df.describe(include='all')"
      ],
      "metadata": {
        "colab": {
          "base_uri": "https://localhost:8080/"
        },
        "id": "gzMJTRujEzJh",
        "outputId": "e8abf7a8-1cc0-4abe-88c8-b4b7388db7c2"
      },
      "execution_count": null,
      "outputs": [
        {
          "output_type": "stream",
          "name": "stdout",
          "text": [
            "<class 'pandas.core.frame.DataFrame'>\n",
            "RangeIndex: 1000 entries, 0 to 999\n",
            "Data columns (total 9 columns):\n",
            " #   Column                  Non-Null Count  Dtype  \n",
            "---  ------                  --------------  -----  \n",
            " 0   Order_ID                1000 non-null   int64  \n",
            " 1   Distance_km             1000 non-null   float64\n",
            " 2   Weather                 970 non-null    object \n",
            " 3   Traffic_Level           970 non-null    object \n",
            " 4   Time_of_Day             970 non-null    object \n",
            " 5   Vehicle_Type            1000 non-null   object \n",
            " 6   Preparation_Time_min    1000 non-null   int64  \n",
            " 7   Courier_Experience_yrs  970 non-null    float64\n",
            " 8   Delivery_Time_min       1000 non-null   int64  \n",
            "dtypes: float64(2), int64(3), object(4)\n",
            "memory usage: 70.4+ KB\n"
          ]
        },
        {
          "output_type": "execute_result",
          "data": {
            "text/plain": [
              "(   Order_ID  Distance_km Weather Traffic_Level Time_of_Day Vehicle_Type  \\\n",
              " 0       522         7.93   Windy           Low   Afternoon      Scooter   \n",
              " 1       738        16.42   Clear        Medium     Evening         Bike   \n",
              " 2       741         9.52   Foggy           Low       Night      Scooter   \n",
              " 3       661         7.44   Rainy        Medium   Afternoon      Scooter   \n",
              " 4       412        19.03   Clear           Low     Morning         Bike   \n",
              " \n",
              "    Preparation_Time_min  Courier_Experience_yrs  Delivery_Time_min  \n",
              " 0                    12                     1.0                 43  \n",
              " 1                    20                     2.0                 84  \n",
              " 2                    28                     1.0                 59  \n",
              " 3                     5                     1.0                 37  \n",
              " 4                    16                     5.0                 68  ,\n",
              " None,\n",
              "            Order_ID  Distance_km Weather Traffic_Level Time_of_Day  \\\n",
              " count   1000.000000  1000.000000     970           970         970   \n",
              " unique          NaN          NaN       5             3           4   \n",
              " top             NaN          NaN   Clear        Medium     Morning   \n",
              " freq            NaN          NaN     470           390         308   \n",
              " mean     500.500000    10.059970     NaN           NaN         NaN   \n",
              " std      288.819436     5.696656     NaN           NaN         NaN   \n",
              " min        1.000000     0.590000     NaN           NaN         NaN   \n",
              " 25%      250.750000     5.105000     NaN           NaN         NaN   \n",
              " 50%      500.500000    10.190000     NaN           NaN         NaN   \n",
              " 75%      750.250000    15.017500     NaN           NaN         NaN   \n",
              " max     1000.000000    19.990000     NaN           NaN         NaN   \n",
              " \n",
              "        Vehicle_Type  Preparation_Time_min  Courier_Experience_yrs  \\\n",
              " count          1000           1000.000000              970.000000   \n",
              " unique            3                   NaN                     NaN   \n",
              " top            Bike                   NaN                     NaN   \n",
              " freq            503                   NaN                     NaN   \n",
              " mean            NaN             16.982000                4.579381   \n",
              " std             NaN              7.204553                2.914394   \n",
              " min             NaN              5.000000                0.000000   \n",
              " 25%             NaN             11.000000                2.000000   \n",
              " 50%             NaN             17.000000                5.000000   \n",
              " 75%             NaN             23.000000                7.000000   \n",
              " max             NaN             29.000000                9.000000   \n",
              " \n",
              "         Delivery_Time_min  \n",
              " count         1000.000000  \n",
              " unique                NaN  \n",
              " top                   NaN  \n",
              " freq                  NaN  \n",
              " mean            56.732000  \n",
              " std             22.070915  \n",
              " min              8.000000  \n",
              " 25%             41.000000  \n",
              " 50%             55.500000  \n",
              " 75%             71.000000  \n",
              " max            153.000000  )"
            ]
          },
          "metadata": {},
          "execution_count": 4
        }
      ]
    },
    {
      "cell_type": "markdown",
      "source": [
        "## Tahap 2: Data Preprocessing"
      ],
      "metadata": {
        "id": "BUDTwyNAFpEz"
      }
    },
    {
      "cell_type": "code",
      "source": [
        "import numpy as np\n",
        "\n",
        "# Salin data untuk preprocessing\n",
        "df_clean = df.copy()\n",
        "\n",
        "# Tangani missing values - imputasi dengan modus untuk kategorikal dan median untuk numerik\n",
        "categorical_cols = ['Weather', 'Traffic_Level', 'Time_of_Day']\n",
        "numerical_cols = ['Courier_Experience_yrs']\n",
        "\n",
        "for col in categorical_cols:\n",
        "    df_clean[col].fillna(df_clean[col].mode()[0], inplace=True)\n",
        "\n",
        "for col in numerical_cols:\n",
        "    df_clean[col].fillna(df_clean[col].median(), inplace=True)\n",
        "\n",
        "# Drop kolom Order_ID karena tidak informatif untuk model\n",
        "df_clean.drop(columns=['Order_ID'], inplace=True)\n",
        "\n",
        "# Buat target klasifikasi berdasarkan Delivery_Time_min\n",
        "def label_delivery_time(minute):\n",
        "    if minute < 45:\n",
        "        return 'Cepat'\n",
        "    elif minute <= 70:\n",
        "        return 'Standar'\n",
        "    else:\n",
        "        return 'Lama'\n",
        "\n",
        "df_clean['Delivery_Class'] = df_clean['Delivery_Time_min'].apply(label_delivery_time)\n",
        "\n",
        "# Drop kolom original target numerik\n",
        "df_clean.drop(columns=['Delivery_Time_min'], inplace=True)\n",
        "\n",
        "# Encoding fitur kategorikal\n",
        "df_encoded = pd.get_dummies(df_clean, drop_first=True)\n",
        "\n",
        "# Cek hasil akhir preprocessing\n",
        "df_encoded.head()"
      ],
      "metadata": {
        "colab": {
          "base_uri": "https://localhost:8080/",
          "height": 226
        },
        "id": "EomWAwXSFro0",
        "outputId": "328389c8-21ff-45e5-836d-a55c47f3abbd"
      },
      "execution_count": null,
      "outputs": [
        {
          "output_type": "execute_result",
          "data": {
            "text/plain": [
              "   Distance_km  Preparation_Time_min  Courier_Experience_yrs  Weather_Foggy  \\\n",
              "0         7.93                    12                     1.0          False   \n",
              "1        16.42                    20                     2.0          False   \n",
              "2         9.52                    28                     1.0           True   \n",
              "3         7.44                     5                     1.0          False   \n",
              "4        19.03                    16                     5.0          False   \n",
              "\n",
              "   Weather_Rainy  Weather_Snowy  Weather_Windy  Traffic_Level_Low  \\\n",
              "0          False          False           True               True   \n",
              "1          False          False          False              False   \n",
              "2          False          False          False               True   \n",
              "3           True          False          False              False   \n",
              "4          False          False          False               True   \n",
              "\n",
              "   Traffic_Level_Medium  Time_of_Day_Evening  Time_of_Day_Morning  \\\n",
              "0                 False                False                False   \n",
              "1                  True                 True                False   \n",
              "2                 False                False                False   \n",
              "3                  True                False                False   \n",
              "4                 False                False                 True   \n",
              "\n",
              "   Time_of_Day_Night  Vehicle_Type_Car  Vehicle_Type_Scooter  \\\n",
              "0              False             False                  True   \n",
              "1              False             False                 False   \n",
              "2               True             False                  True   \n",
              "3              False             False                  True   \n",
              "4              False             False                 False   \n",
              "\n",
              "   Delivery_Class_Lama  Delivery_Class_Standar  \n",
              "0                False                   False  \n",
              "1                 True                   False  \n",
              "2                False                    True  \n",
              "3                False                   False  \n",
              "4                False                    True  "
            ],
            "text/html": [
              "\n",
              "  <div id=\"df-e0728db2-87dd-4a0f-ae2e-9b54cb30ba6d\" class=\"colab-df-container\">\n",
              "    <div>\n",
              "<style scoped>\n",
              "    .dataframe tbody tr th:only-of-type {\n",
              "        vertical-align: middle;\n",
              "    }\n",
              "\n",
              "    .dataframe tbody tr th {\n",
              "        vertical-align: top;\n",
              "    }\n",
              "\n",
              "    .dataframe thead th {\n",
              "        text-align: right;\n",
              "    }\n",
              "</style>\n",
              "<table border=\"1\" class=\"dataframe\">\n",
              "  <thead>\n",
              "    <tr style=\"text-align: right;\">\n",
              "      <th></th>\n",
              "      <th>Distance_km</th>\n",
              "      <th>Preparation_Time_min</th>\n",
              "      <th>Courier_Experience_yrs</th>\n",
              "      <th>Weather_Foggy</th>\n",
              "      <th>Weather_Rainy</th>\n",
              "      <th>Weather_Snowy</th>\n",
              "      <th>Weather_Windy</th>\n",
              "      <th>Traffic_Level_Low</th>\n",
              "      <th>Traffic_Level_Medium</th>\n",
              "      <th>Time_of_Day_Evening</th>\n",
              "      <th>Time_of_Day_Morning</th>\n",
              "      <th>Time_of_Day_Night</th>\n",
              "      <th>Vehicle_Type_Car</th>\n",
              "      <th>Vehicle_Type_Scooter</th>\n",
              "      <th>Delivery_Class_Lama</th>\n",
              "      <th>Delivery_Class_Standar</th>\n",
              "    </tr>\n",
              "  </thead>\n",
              "  <tbody>\n",
              "    <tr>\n",
              "      <th>0</th>\n",
              "      <td>7.93</td>\n",
              "      <td>12</td>\n",
              "      <td>1.0</td>\n",
              "      <td>False</td>\n",
              "      <td>False</td>\n",
              "      <td>False</td>\n",
              "      <td>True</td>\n",
              "      <td>True</td>\n",
              "      <td>False</td>\n",
              "      <td>False</td>\n",
              "      <td>False</td>\n",
              "      <td>False</td>\n",
              "      <td>False</td>\n",
              "      <td>True</td>\n",
              "      <td>False</td>\n",
              "      <td>False</td>\n",
              "    </tr>\n",
              "    <tr>\n",
              "      <th>1</th>\n",
              "      <td>16.42</td>\n",
              "      <td>20</td>\n",
              "      <td>2.0</td>\n",
              "      <td>False</td>\n",
              "      <td>False</td>\n",
              "      <td>False</td>\n",
              "      <td>False</td>\n",
              "      <td>False</td>\n",
              "      <td>True</td>\n",
              "      <td>True</td>\n",
              "      <td>False</td>\n",
              "      <td>False</td>\n",
              "      <td>False</td>\n",
              "      <td>False</td>\n",
              "      <td>True</td>\n",
              "      <td>False</td>\n",
              "    </tr>\n",
              "    <tr>\n",
              "      <th>2</th>\n",
              "      <td>9.52</td>\n",
              "      <td>28</td>\n",
              "      <td>1.0</td>\n",
              "      <td>True</td>\n",
              "      <td>False</td>\n",
              "      <td>False</td>\n",
              "      <td>False</td>\n",
              "      <td>True</td>\n",
              "      <td>False</td>\n",
              "      <td>False</td>\n",
              "      <td>False</td>\n",
              "      <td>True</td>\n",
              "      <td>False</td>\n",
              "      <td>True</td>\n",
              "      <td>False</td>\n",
              "      <td>True</td>\n",
              "    </tr>\n",
              "    <tr>\n",
              "      <th>3</th>\n",
              "      <td>7.44</td>\n",
              "      <td>5</td>\n",
              "      <td>1.0</td>\n",
              "      <td>False</td>\n",
              "      <td>True</td>\n",
              "      <td>False</td>\n",
              "      <td>False</td>\n",
              "      <td>False</td>\n",
              "      <td>True</td>\n",
              "      <td>False</td>\n",
              "      <td>False</td>\n",
              "      <td>False</td>\n",
              "      <td>False</td>\n",
              "      <td>True</td>\n",
              "      <td>False</td>\n",
              "      <td>False</td>\n",
              "    </tr>\n",
              "    <tr>\n",
              "      <th>4</th>\n",
              "      <td>19.03</td>\n",
              "      <td>16</td>\n",
              "      <td>5.0</td>\n",
              "      <td>False</td>\n",
              "      <td>False</td>\n",
              "      <td>False</td>\n",
              "      <td>False</td>\n",
              "      <td>True</td>\n",
              "      <td>False</td>\n",
              "      <td>False</td>\n",
              "      <td>True</td>\n",
              "      <td>False</td>\n",
              "      <td>False</td>\n",
              "      <td>False</td>\n",
              "      <td>False</td>\n",
              "      <td>True</td>\n",
              "    </tr>\n",
              "  </tbody>\n",
              "</table>\n",
              "</div>\n",
              "    <div class=\"colab-df-buttons\">\n",
              "\n",
              "  <div class=\"colab-df-container\">\n",
              "    <button class=\"colab-df-convert\" onclick=\"convertToInteractive('df-e0728db2-87dd-4a0f-ae2e-9b54cb30ba6d')\"\n",
              "            title=\"Convert this dataframe to an interactive table.\"\n",
              "            style=\"display:none;\">\n",
              "\n",
              "  <svg xmlns=\"http://www.w3.org/2000/svg\" height=\"24px\" viewBox=\"0 -960 960 960\">\n",
              "    <path d=\"M120-120v-720h720v720H120Zm60-500h600v-160H180v160Zm220 220h160v-160H400v160Zm0 220h160v-160H400v160ZM180-400h160v-160H180v160Zm440 0h160v-160H620v160ZM180-180h160v-160H180v160Zm440 0h160v-160H620v160Z\"/>\n",
              "  </svg>\n",
              "    </button>\n",
              "\n",
              "  <style>\n",
              "    .colab-df-container {\n",
              "      display:flex;\n",
              "      gap: 12px;\n",
              "    }\n",
              "\n",
              "    .colab-df-convert {\n",
              "      background-color: #E8F0FE;\n",
              "      border: none;\n",
              "      border-radius: 50%;\n",
              "      cursor: pointer;\n",
              "      display: none;\n",
              "      fill: #1967D2;\n",
              "      height: 32px;\n",
              "      padding: 0 0 0 0;\n",
              "      width: 32px;\n",
              "    }\n",
              "\n",
              "    .colab-df-convert:hover {\n",
              "      background-color: #E2EBFA;\n",
              "      box-shadow: 0px 1px 2px rgba(60, 64, 67, 0.3), 0px 1px 3px 1px rgba(60, 64, 67, 0.15);\n",
              "      fill: #174EA6;\n",
              "    }\n",
              "\n",
              "    .colab-df-buttons div {\n",
              "      margin-bottom: 4px;\n",
              "    }\n",
              "\n",
              "    [theme=dark] .colab-df-convert {\n",
              "      background-color: #3B4455;\n",
              "      fill: #D2E3FC;\n",
              "    }\n",
              "\n",
              "    [theme=dark] .colab-df-convert:hover {\n",
              "      background-color: #434B5C;\n",
              "      box-shadow: 0px 1px 3px 1px rgba(0, 0, 0, 0.15);\n",
              "      filter: drop-shadow(0px 1px 2px rgba(0, 0, 0, 0.3));\n",
              "      fill: #FFFFFF;\n",
              "    }\n",
              "  </style>\n",
              "\n",
              "    <script>\n",
              "      const buttonEl =\n",
              "        document.querySelector('#df-e0728db2-87dd-4a0f-ae2e-9b54cb30ba6d button.colab-df-convert');\n",
              "      buttonEl.style.display =\n",
              "        google.colab.kernel.accessAllowed ? 'block' : 'none';\n",
              "\n",
              "      async function convertToInteractive(key) {\n",
              "        const element = document.querySelector('#df-e0728db2-87dd-4a0f-ae2e-9b54cb30ba6d');\n",
              "        const dataTable =\n",
              "          await google.colab.kernel.invokeFunction('convertToInteractive',\n",
              "                                                    [key], {});\n",
              "        if (!dataTable) return;\n",
              "\n",
              "        const docLinkHtml = 'Like what you see? Visit the ' +\n",
              "          '<a target=\"_blank\" href=https://colab.research.google.com/notebooks/data_table.ipynb>data table notebook</a>'\n",
              "          + ' to learn more about interactive tables.';\n",
              "        element.innerHTML = '';\n",
              "        dataTable['output_type'] = 'display_data';\n",
              "        await google.colab.output.renderOutput(dataTable, element);\n",
              "        const docLink = document.createElement('div');\n",
              "        docLink.innerHTML = docLinkHtml;\n",
              "        element.appendChild(docLink);\n",
              "      }\n",
              "    </script>\n",
              "  </div>\n",
              "\n",
              "\n",
              "    <div id=\"df-88006c0f-eedb-4043-b5f0-06e961d75fa9\">\n",
              "      <button class=\"colab-df-quickchart\" onclick=\"quickchart('df-88006c0f-eedb-4043-b5f0-06e961d75fa9')\"\n",
              "                title=\"Suggest charts\"\n",
              "                style=\"display:none;\">\n",
              "\n",
              "<svg xmlns=\"http://www.w3.org/2000/svg\" height=\"24px\"viewBox=\"0 0 24 24\"\n",
              "     width=\"24px\">\n",
              "    <g>\n",
              "        <path d=\"M19 3H5c-1.1 0-2 .9-2 2v14c0 1.1.9 2 2 2h14c1.1 0 2-.9 2-2V5c0-1.1-.9-2-2-2zM9 17H7v-7h2v7zm4 0h-2V7h2v10zm4 0h-2v-4h2v4z\"/>\n",
              "    </g>\n",
              "</svg>\n",
              "      </button>\n",
              "\n",
              "<style>\n",
              "  .colab-df-quickchart {\n",
              "      --bg-color: #E8F0FE;\n",
              "      --fill-color: #1967D2;\n",
              "      --hover-bg-color: #E2EBFA;\n",
              "      --hover-fill-color: #174EA6;\n",
              "      --disabled-fill-color: #AAA;\n",
              "      --disabled-bg-color: #DDD;\n",
              "  }\n",
              "\n",
              "  [theme=dark] .colab-df-quickchart {\n",
              "      --bg-color: #3B4455;\n",
              "      --fill-color: #D2E3FC;\n",
              "      --hover-bg-color: #434B5C;\n",
              "      --hover-fill-color: #FFFFFF;\n",
              "      --disabled-bg-color: #3B4455;\n",
              "      --disabled-fill-color: #666;\n",
              "  }\n",
              "\n",
              "  .colab-df-quickchart {\n",
              "    background-color: var(--bg-color);\n",
              "    border: none;\n",
              "    border-radius: 50%;\n",
              "    cursor: pointer;\n",
              "    display: none;\n",
              "    fill: var(--fill-color);\n",
              "    height: 32px;\n",
              "    padding: 0;\n",
              "    width: 32px;\n",
              "  }\n",
              "\n",
              "  .colab-df-quickchart:hover {\n",
              "    background-color: var(--hover-bg-color);\n",
              "    box-shadow: 0 1px 2px rgba(60, 64, 67, 0.3), 0 1px 3px 1px rgba(60, 64, 67, 0.15);\n",
              "    fill: var(--button-hover-fill-color);\n",
              "  }\n",
              "\n",
              "  .colab-df-quickchart-complete:disabled,\n",
              "  .colab-df-quickchart-complete:disabled:hover {\n",
              "    background-color: var(--disabled-bg-color);\n",
              "    fill: var(--disabled-fill-color);\n",
              "    box-shadow: none;\n",
              "  }\n",
              "\n",
              "  .colab-df-spinner {\n",
              "    border: 2px solid var(--fill-color);\n",
              "    border-color: transparent;\n",
              "    border-bottom-color: var(--fill-color);\n",
              "    animation:\n",
              "      spin 1s steps(1) infinite;\n",
              "  }\n",
              "\n",
              "  @keyframes spin {\n",
              "    0% {\n",
              "      border-color: transparent;\n",
              "      border-bottom-color: var(--fill-color);\n",
              "      border-left-color: var(--fill-color);\n",
              "    }\n",
              "    20% {\n",
              "      border-color: transparent;\n",
              "      border-left-color: var(--fill-color);\n",
              "      border-top-color: var(--fill-color);\n",
              "    }\n",
              "    30% {\n",
              "      border-color: transparent;\n",
              "      border-left-color: var(--fill-color);\n",
              "      border-top-color: var(--fill-color);\n",
              "      border-right-color: var(--fill-color);\n",
              "    }\n",
              "    40% {\n",
              "      border-color: transparent;\n",
              "      border-right-color: var(--fill-color);\n",
              "      border-top-color: var(--fill-color);\n",
              "    }\n",
              "    60% {\n",
              "      border-color: transparent;\n",
              "      border-right-color: var(--fill-color);\n",
              "    }\n",
              "    80% {\n",
              "      border-color: transparent;\n",
              "      border-right-color: var(--fill-color);\n",
              "      border-bottom-color: var(--fill-color);\n",
              "    }\n",
              "    90% {\n",
              "      border-color: transparent;\n",
              "      border-bottom-color: var(--fill-color);\n",
              "    }\n",
              "  }\n",
              "</style>\n",
              "\n",
              "      <script>\n",
              "        async function quickchart(key) {\n",
              "          const quickchartButtonEl =\n",
              "            document.querySelector('#' + key + ' button');\n",
              "          quickchartButtonEl.disabled = true;  // To prevent multiple clicks.\n",
              "          quickchartButtonEl.classList.add('colab-df-spinner');\n",
              "          try {\n",
              "            const charts = await google.colab.kernel.invokeFunction(\n",
              "                'suggestCharts', [key], {});\n",
              "          } catch (error) {\n",
              "            console.error('Error during call to suggestCharts:', error);\n",
              "          }\n",
              "          quickchartButtonEl.classList.remove('colab-df-spinner');\n",
              "          quickchartButtonEl.classList.add('colab-df-quickchart-complete');\n",
              "        }\n",
              "        (() => {\n",
              "          let quickchartButtonEl =\n",
              "            document.querySelector('#df-88006c0f-eedb-4043-b5f0-06e961d75fa9 button');\n",
              "          quickchartButtonEl.style.display =\n",
              "            google.colab.kernel.accessAllowed ? 'block' : 'none';\n",
              "        })();\n",
              "      </script>\n",
              "    </div>\n",
              "\n",
              "    </div>\n",
              "  </div>\n"
            ],
            "application/vnd.google.colaboratory.intrinsic+json": {
              "type": "dataframe",
              "variable_name": "df_encoded",
              "summary": "{\n  \"name\": \"df_encoded\",\n  \"rows\": 1000,\n  \"fields\": [\n    {\n      \"column\": \"Distance_km\",\n      \"properties\": {\n        \"dtype\": \"number\",\n        \"std\": 5.696655526120854,\n        \"min\": 0.59,\n        \"max\": 19.99,\n        \"num_unique_values\": 785,\n        \"samples\": [\n          1.57,\n          8.68,\n          5.61\n        ],\n        \"semantic_type\": \"\",\n        \"description\": \"\"\n      }\n    },\n    {\n      \"column\": \"Preparation_Time_min\",\n      \"properties\": {\n        \"dtype\": \"number\",\n        \"std\": 7,\n        \"min\": 5,\n        \"max\": 29,\n        \"num_unique_values\": 25,\n        \"samples\": [\n          10,\n          22,\n          12\n        ],\n        \"semantic_type\": \"\",\n        \"description\": \"\"\n      }\n    },\n    {\n      \"column\": \"Courier_Experience_yrs\",\n      \"properties\": {\n        \"dtype\": \"number\",\n        \"std\": 2.871198317737698,\n        \"min\": 0.0,\n        \"max\": 9.0,\n        \"num_unique_values\": 10,\n        \"samples\": [\n          8.0,\n          2.0,\n          4.0\n        ],\n        \"semantic_type\": \"\",\n        \"description\": \"\"\n      }\n    },\n    {\n      \"column\": \"Weather_Foggy\",\n      \"properties\": {\n        \"dtype\": \"boolean\",\n        \"num_unique_values\": 2,\n        \"samples\": [\n          true,\n          false\n        ],\n        \"semantic_type\": \"\",\n        \"description\": \"\"\n      }\n    },\n    {\n      \"column\": \"Weather_Rainy\",\n      \"properties\": {\n        \"dtype\": \"boolean\",\n        \"num_unique_values\": 2,\n        \"samples\": [\n          true,\n          false\n        ],\n        \"semantic_type\": \"\",\n        \"description\": \"\"\n      }\n    },\n    {\n      \"column\": \"Weather_Snowy\",\n      \"properties\": {\n        \"dtype\": \"boolean\",\n        \"num_unique_values\": 2,\n        \"samples\": [\n          true,\n          false\n        ],\n        \"semantic_type\": \"\",\n        \"description\": \"\"\n      }\n    },\n    {\n      \"column\": \"Weather_Windy\",\n      \"properties\": {\n        \"dtype\": \"boolean\",\n        \"num_unique_values\": 2,\n        \"samples\": [\n          false,\n          true\n        ],\n        \"semantic_type\": \"\",\n        \"description\": \"\"\n      }\n    },\n    {\n      \"column\": \"Traffic_Level_Low\",\n      \"properties\": {\n        \"dtype\": \"boolean\",\n        \"num_unique_values\": 2,\n        \"samples\": [\n          false,\n          true\n        ],\n        \"semantic_type\": \"\",\n        \"description\": \"\"\n      }\n    },\n    {\n      \"column\": \"Traffic_Level_Medium\",\n      \"properties\": {\n        \"dtype\": \"boolean\",\n        \"num_unique_values\": 2,\n        \"samples\": [\n          true,\n          false\n        ],\n        \"semantic_type\": \"\",\n        \"description\": \"\"\n      }\n    },\n    {\n      \"column\": \"Time_of_Day_Evening\",\n      \"properties\": {\n        \"dtype\": \"boolean\",\n        \"num_unique_values\": 2,\n        \"samples\": [\n          true,\n          false\n        ],\n        \"semantic_type\": \"\",\n        \"description\": \"\"\n      }\n    },\n    {\n      \"column\": \"Time_of_Day_Morning\",\n      \"properties\": {\n        \"dtype\": \"boolean\",\n        \"num_unique_values\": 2,\n        \"samples\": [\n          true,\n          false\n        ],\n        \"semantic_type\": \"\",\n        \"description\": \"\"\n      }\n    },\n    {\n      \"column\": \"Time_of_Day_Night\",\n      \"properties\": {\n        \"dtype\": \"boolean\",\n        \"num_unique_values\": 2,\n        \"samples\": [\n          true,\n          false\n        ],\n        \"semantic_type\": \"\",\n        \"description\": \"\"\n      }\n    },\n    {\n      \"column\": \"Vehicle_Type_Car\",\n      \"properties\": {\n        \"dtype\": \"boolean\",\n        \"num_unique_values\": 2,\n        \"samples\": [\n          true,\n          false\n        ],\n        \"semantic_type\": \"\",\n        \"description\": \"\"\n      }\n    },\n    {\n      \"column\": \"Vehicle_Type_Scooter\",\n      \"properties\": {\n        \"dtype\": \"boolean\",\n        \"num_unique_values\": 2,\n        \"samples\": [\n          false,\n          true\n        ],\n        \"semantic_type\": \"\",\n        \"description\": \"\"\n      }\n    },\n    {\n      \"column\": \"Delivery_Class_Lama\",\n      \"properties\": {\n        \"dtype\": \"boolean\",\n        \"num_unique_values\": 2,\n        \"samples\": [\n          true,\n          false\n        ],\n        \"semantic_type\": \"\",\n        \"description\": \"\"\n      }\n    },\n    {\n      \"column\": \"Delivery_Class_Standar\",\n      \"properties\": {\n        \"dtype\": \"boolean\",\n        \"num_unique_values\": 2,\n        \"samples\": [\n          true,\n          false\n        ],\n        \"semantic_type\": \"\",\n        \"description\": \"\"\n      }\n    }\n  ]\n}"
            }
          },
          "metadata": {},
          "execution_count": 15
        }
      ]
    },
    {
      "cell_type": "markdown",
      "source": [
        "## Tahap 3: Eksplorasi Data (Exploratory Data Analysis - EDA)"
      ],
      "metadata": {
        "id": "-uO5wAAUHqj6"
      }
    },
    {
      "cell_type": "code",
      "source": [
        "import seaborn as sns\n",
        "import matplotlib.pyplot as plt\n",
        "\n",
        "# Hitung distribusi kelas dalam persentase\n",
        "class_percentages = df_clean['Delivery_Class'].value_counts(normalize=True) * 100\n",
        "\n",
        "# Plot bar\n",
        "plt.figure(figsize=(6, 4))\n",
        "sns.barplot(x=class_percentages.index, y=class_percentages.values, palette='Set2')\n",
        "plt.title('Distribusi Persentase Kelas Delivery_Class')\n",
        "plt.xlabel('Kelas Pengantaran')\n",
        "plt.ylabel('Persentase (%)')\n",
        "plt.ylim(0, 100)\n",
        "\n",
        "# Tambahkan label persentase di atas batang\n",
        "for i, v in enumerate(class_percentages.values):\n",
        "    plt.text(i, v + 1, f\"{v:.1f}%\", ha='center', fontweight='bold')\n",
        "\n",
        "plt.tight_layout()\n",
        "plt.show()"
      ],
      "metadata": {
        "colab": {
          "base_uri": "https://localhost:8080/",
          "height": 407
        },
        "id": "Tl2Y_5xpHrQh",
        "outputId": "4639d80e-37a8-44dd-b709-c692dd51b56d"
      },
      "execution_count": null,
      "outputs": [
        {
          "output_type": "display_data",
          "data": {
            "text/plain": [
              "<Figure size 600x400 with 1 Axes>"
            ],
            "image/png": "[encoded data removed]"
          },
          "metadata": {}
        }
      ]
    },
    {
      "cell_type": "markdown",
      "source": [
        "1. Distribusi Kelas Delivery_Class\n",
        "- Cepat: 32.5%\n",
        "- Standar: 41.7%\n",
        "- Lama:25.8%"
      ],
      "metadata": {
        "id": "bIo0UdARIL8o"
      }
    },
    {
      "cell_type": "code",
      "source": [
        "# Korelasi fitur numerik\n",
        "plt.figure(figsize=(10, 6))\n",
        "sns.heatmap(df_clean.corr(numeric_only=True), annot=True, cmap='coolwarm', fmt=\".2f\")\n",
        "plt.title('Heatmap Korelasi Fitur Numerik')\n",
        "plt.tight_layout()\n",
        "plt.show()"
      ],
      "metadata": {
        "colab": {
          "base_uri": "https://localhost:8080/",
          "height": 607
        },
        "id": "m1g-WthqHxse",
        "outputId": "45dbfc1a-73e5-4e6c-c2db-797230c67b41"
      },
      "execution_count": null,
      "outputs": [
        {
          "output_type": "display_data",
          "data": {
            "text/plain": [
              "<Figure size 1000x600 with 2 Axes>"
            ],
            "image/png": "[encoded data removed]"
          },
          "metadata": {}
        }
      ]
    },
    {
      "cell_type": "markdown",
      "source": [
        "Hasil Korelasi:\n",
        "- Distance_km vs Preparation_Time_min: Korelasi sebesar -0.01, menunjukkan tidak adanya hubungan linear yang signifikan antara jarak tempuh dan waktu persiapan.\n",
        "- Distance_km vs Courier_Experience_yrs: Korelasi sebesar -0.01, juga menunjukkan tidak ada hubungan linear yang berarti antara pengalaman kurir dan jarak tempuh.\n",
        "- Preparation_Time_min vs Courier_Experience_yrs: Korelasi sebesar -0.03, artinya pengalaman kurir hampir tidak berpengaruh terhadap waktu persiapan.\n",
        "- Diagonal (nilai 1.00): Setiap fitur berkorelasi sempurna dengan dirinya sendiri, yang memang sudah semestinya.\n",
        "\n",
        "Kesimpulan\n",
        "\n",
        "Fitur Distance_km, Preparation_Time_min, dan Courier_Experience_yrs bersifat independen satu sama lain, sehingga dapat digunakan secara bersamaan dalam analisis atau pemodelan tanpa khawatir akan adanya pengaruh korelasi yang kuat di antara mereka."
      ],
      "metadata": {
        "id": "1IjLCkMTIngq"
      }
    },
    {
      "cell_type": "code",
      "source": [
        "# Boxplot waktu pengantaran berdasarkan Traffic_Level\n",
        "plt.figure(figsize=(8, 5))\n",
        "sns.boxplot(data=df, x='Traffic_Level', y='Delivery_Time_min', palette='coolwarm')\n",
        "plt.title('Distribusi Waktu Pengantaran vs Tingkat Kemacetan')\n",
        "plt.xlabel('Tingkat Kemacetan')\n",
        "plt.ylabel('Waktu Pengantaran (menit)')\n",
        "plt.tight_layout()\n",
        "plt.show()"
      ],
      "metadata": {
        "colab": {
          "base_uri": "https://localhost:8080/",
          "height": 507
        },
        "id": "sT2Yjb5UIOC6",
        "outputId": "8773206b-f060-425c-8dae-15a94d84fa74"
      },
      "execution_count": null,
      "outputs": [
        {
          "output_type": "display_data",
          "data": {
            "text/plain": [
              "<Figure size 800x500 with 1 Axes>"
            ],
            "image/png": "[encoded data removed]"
          },
          "metadata": {}
        }
      ]
    },
    {
      "cell_type": "markdown",
      "source": [
        "3. Boxplot vs Traffic_Level\n",
        "- Waktu pengantaran cenderung lebih lama saat Traffic_Level adalah High.\n",
        "- Traffic Level \"Low\" dan \"Medium\" memiliki distribusi waktu yang lebih singkat dan stabil.\n",
        "\n",
        "Analisis:\n",
        "- Tingkat kemacetan merupakan fitur penting yang memengaruhi durasi pengantaran dan skor review."
      ],
      "metadata": {
        "id": "gWD0-JseIxkJ"
      }
    },
    {
      "cell_type": "code",
      "source": [
        "# Boxplot waktu pengantaran berdasarkan Weather\n",
        "plt.figure(figsize=(8, 5))\n",
        "sns.boxplot(data=df, x='Weather', y='Delivery_Time_min', palette='viridis')\n",
        "plt.title('Distribusi Waktu Pengantaran vs Cuaca')\n",
        "plt.xlabel('Kondisi Cuaca')\n",
        "plt.ylabel('Waktu Pengantaran (menit)')\n",
        "plt.tight_layout()\n",
        "plt.show()"
      ],
      "metadata": {
        "colab": {
          "base_uri": "https://localhost:8080/",
          "height": 507
        },
        "id": "iNeZYTuLIQOc",
        "outputId": "a9e57bcc-6797-4f5a-da40-03859a604096"
      },
      "execution_count": null,
      "outputs": [
        {
          "output_type": "display_data",
          "data": {
            "text/plain": [
              "<Figure size 800x500 with 1 Axes>"
            ],
            "image/png": "[encoded data removed]"
          },
          "metadata": {}
        }
      ]
    },
    {
      "cell_type": "markdown",
      "source": [
        "4. Boxplot vs Weather\n",
        "- Snowy dan Rainy memiliki outlier dan waktu pengantaran yang lebih tinggi dibanding kondisi cuaca normal.\n",
        "- Clear dan Windy cenderung memiliki waktu pengantaran yang lebih cepat.\n",
        "\n",
        "Analisis:\n",
        "- Cuaca buruk (hujan/salju) jelas berdampak negatif terhadap waktu pengiriman, dan mungkin berdampak pada skor review pelanggan."
      ],
      "metadata": {
        "id": "hWx9dz7dI61p"
      }
    },
    {
      "cell_type": "markdown",
      "source": [
        "## Tahap 4: Pengembangan Model Machine Learning"
      ],
      "metadata": {
        "id": "fexxR29UJES3"
      }
    },
    {
      "cell_type": "markdown",
      "source": [
        "Persiapan Dataset dan Splitting"
      ],
      "metadata": {
        "id": "rRhGKY84J9pt"
      }
    },
    {
      "cell_type": "code",
      "source": [
        "from sklearn.model_selection import train_test_split\n",
        "from sklearn.preprocessing import LabelEncoder\n",
        "\n",
        "# Fitur (X) dan target (y)\n",
        "X = df_encoded.drop(columns=['Delivery_Class_Lama', 'Delivery_Class_Standar'])  # drop dummy target\n",
        "y = df_clean['Delivery_Class']\n",
        "\n",
        "# Encode label target\n",
        "le = LabelEncoder()\n",
        "y_encoded = le.fit_transform(y)  # 'Cepat' = 0, 'Standar' = 1, 'Lama' = 2\n",
        "\n",
        "# Bagi dataset\n",
        "X_train, X_test, y_train, y_test = train_test_split(X, y_encoded, test_size=0.2, random_state=42, stratify=y_encoded)"
      ],
      "metadata": {
        "id": "TxdMytv5JFDR"
      },
      "execution_count": null,
      "outputs": []
    },
    {
      "cell_type": "markdown",
      "source": [
        "Pembuatan dan Evaluasi Model"
      ],
      "metadata": {
        "id": "cn-Gnn0lJ_kA"
      }
    },
    {
      "cell_type": "code",
      "source": [
        "from sklearn.ensemble import RandomForestClassifier\n",
        "from sklearn.linear_model import LogisticRegression\n",
        "from sklearn.tree import DecisionTreeClassifier\n",
        "from sklearn.metrics import accuracy_score, classification_report, confusion_matrix\n",
        "\n",
        "# Inisialisasi model\n",
        "models = {\n",
        "    \"Logistic Regression\": LogisticRegression(max_iter=1000),\n",
        "    \"Decision Tree\": DecisionTreeClassifier(random_state=42),\n",
        "    \"Random Forest\": RandomForestClassifier(random_state=42)\n",
        "}\n",
        "\n",
        "# Latih dan evaluasi\n",
        "for name, model in models.items():\n",
        "    model.fit(X_train, y_train)\n",
        "    y_pred = model.predict(X_test)\n",
        "    print(f\"\\n{name} Accuracy: {accuracy_score(y_test, y_pred):.4f}\")\n",
        "    print(\"Confusion Matrix:\\n\", confusion_matrix(y_test, y_pred))\n",
        "    print(\"Classification Report:\\n\", classification_report(y_test, y_pred, target_names=le.classes_))"
      ],
      "metadata": {
        "colab": {
          "base_uri": "https://localhost:8080/"
        },
        "id": "7iQvXuDPJYOU",
        "outputId": "57920efc-35ae-4def-c168-1f73b915ec8b"
      },
      "execution_count": null,
      "outputs": [
        {
          "output_type": "stream",
          "name": "stdout",
          "text": [
            "\n",
            "Logistic Regression Accuracy: 0.7600\n",
            "Confusion Matrix:\n",
            " [[54  0 11]\n",
            " [ 3 35 14]\n",
            " [ 5 15 63]]\n",
            "Classification Report:\n",
            "               precision    recall  f1-score   support\n",
            "\n",
            "       Cepat       0.87      0.83      0.85        65\n",
            "        Lama       0.70      0.67      0.69        52\n",
            "     Standar       0.72      0.76      0.74        83\n",
            "\n",
            "    accuracy                           0.76       200\n",
            "   macro avg       0.76      0.75      0.76       200\n",
            "weighted avg       0.76      0.76      0.76       200\n",
            "\n",
            "\n",
            "Decision Tree Accuracy: 0.6600\n",
            "Confusion Matrix:\n",
            " [[48  1 16]\n",
            " [ 2 32 18]\n",
            " [ 9 22 52]]\n",
            "Classification Report:\n",
            "               precision    recall  f1-score   support\n",
            "\n",
            "       Cepat       0.81      0.74      0.77        65\n",
            "        Lama       0.58      0.62      0.60        52\n",
            "     Standar       0.60      0.63      0.62        83\n",
            "\n",
            "    accuracy                           0.66       200\n",
            "   macro avg       0.67      0.66      0.66       200\n",
            "weighted avg       0.67      0.66      0.66       200\n",
            "\n",
            "\n",
            "Random Forest Accuracy: 0.7250\n",
            "Confusion Matrix:\n",
            " [[53  0 12]\n",
            " [ 4 32 16]\n",
            " [ 7 16 60]]\n",
            "Classification Report:\n",
            "               precision    recall  f1-score   support\n",
            "\n",
            "       Cepat       0.83      0.82      0.82        65\n",
            "        Lama       0.67      0.62      0.64        52\n",
            "     Standar       0.68      0.72      0.70        83\n",
            "\n",
            "    accuracy                           0.72       200\n",
            "   macro avg       0.73      0.72      0.72       200\n",
            "weighted avg       0.73      0.72      0.72       200\n",
            "\n"
          ]
        }
      ]
    },
    {
      "cell_type": "markdown",
      "source": [
        "Analisis\n",
        "1. Akurasi\n",
        "- Logistic Regression memiliki akurasi tertinggi (76%), diikuti oleh Random Forest (72.5%), dan Decision Tree (66%).\n",
        "- Ini menunjukkan Logistic Regression lebih baik dalam mengklasifikasikan keseluruhan data dengan benar.\n",
        "\n",
        "2. Precision\n",
        "- Precision tertinggi untuk kelas \"Cepat\" dicapai oleh Logistic Regression (0.87), artinya model ini paling sedikit menghasilkan false positive untuk kelas Cepat.\n",
        "- Decision Tree memiliki precision terendah terutama di kelas \"Lama\" dan \"Sedang\", menunjukkan lebih banyak false positive.\n",
        "- Random Forest berada di tengah-tengah, lebih baik dari Decision Tree tapi sedikit di bawah Logistic Regression.\n",
        "\n",
        "3. Recall\n",
        "- Recall tertinggi untuk kelas \"Cepat\" juga dimiliki Logistic Regression (0.83), artinya model ini mampu menangkap sebagian besar kasus Cepat.\n",
        "- Recall kelas \"Lama\" dan \"Sedang\" juga lebih baik di Logistic Regression dibandingkan model lain.\n",
        "- Decision Tree memiliki recall terendah, menunjukkan banyak false negative.\n",
        "\n",
        "4. F1-score\n",
        "- F1-score yang merupakan harmonisasi precision dan recall, paling tinggi di Logistic Regression untuk semua kelas.\n",
        "- Random Forest cukup kompetitif, terutama untuk kelas \"Cepat\" dan \"Sedang\".\n",
        "- Decision Tree paling rendah, menandakan performa yang kurang seimbang antara precision dan recall.\n",
        "\n",
        "5. Confusion Matrix\n",
        "- Logistic Regression menunjukkan distribusi kesalahan yang lebih sedikit, terutama untuk kelas \"Cepat\" dan \"Sedang\".\n",
        "- Decision Tree banyak salah klasifikasi antara kelas \"Lama\" dan \"Sedang\".\n",
        "- Random Forest memperbaiki kesalahan Decision Tree, namun masih ada kesalahan signifikan antara kelas \"Lama\" dan \"Sedang\".\n",
        "\n",
        "Kesimpulan\n",
        "- Logistic Regression adalah model terbaik secara keseluruhan untuk dataset ini, dengan akurasi, precision, recall, dan f1-score tertinggi.\n",
        "- Random Forest merupakan alternatif yang baik dengan performa cukup mendekati Logistic Regression, terutama untuk kelas \"Cepat\" dan \"Sedang\".\n",
        "- Decision Tree memiliki performa paling rendah dan cenderung melakukan kesalahan klasifikasi lebih banyak, terutama pada kelas \"Lama\" dan \"Sedang\""
      ],
      "metadata": {
        "id": "MTpGbzCqn1XM"
      }
    },
    {
      "cell_type": "markdown",
      "source": [
        "Validasi Silang dan Tuning"
      ],
      "metadata": {
        "id": "IzLjG4ORKCiD"
      }
    },
    {
      "cell_type": "code",
      "source": [
        "from sklearn.model_selection import cross_val_score\n",
        "\n",
        "# Validasi silang (5-fold)\n",
        "for name, model in models.items():\n",
        "    scores = cross_val_score(model, X, y_encoded, cv=5, scoring='accuracy')\n",
        "    print(f\"{name} Cross-Validation Accuracy: {scores.mean():.4f} ± {scores.std():.4f}\")"
      ],
      "metadata": {
        "colab": {
          "base_uri": "https://localhost:8080/"
        },
        "id": "sGQ2jLhYJaFg",
        "outputId": "59dbe803-4fe0-402d-8366-c3a249ee3364"
      },
      "execution_count": null,
      "outputs": [
        {
          "output_type": "stream",
          "name": "stdout",
          "text": [
            "Logistic Regression Cross-Validation Accuracy: 0.7930 ± 0.0311\n",
            "Decision Tree Cross-Validation Accuracy: 0.6970 ± 0.0201\n",
            "Random Forest Cross-Validation Accuracy: 0.7480 ± 0.0191\n"
          ]
        }
      ]
    },
    {
      "cell_type": "markdown",
      "source": [
        "Hyperparameter Tuning untuk Random Forest"
      ],
      "metadata": {
        "id": "UpsJ8dg4KLTw"
      }
    },
    {
      "cell_type": "code",
      "source": [
        "from sklearn.model_selection import GridSearchCV\n",
        "from sklearn.ensemble import RandomForestClassifier\n",
        "\n",
        "# Grid parameter\n",
        "param_grid_rf = {\n",
        "    'n_estimators': [50, 100, 150],\n",
        "    'max_depth': [None, 5, 10],\n",
        "    'min_samples_split': [2, 5],\n",
        "    'min_samples_leaf': [1, 2]\n",
        "}\n",
        "\n",
        "# Model dasar\n",
        "rf = RandomForestClassifier(random_state=42)\n",
        "\n",
        "# Grid Search\n",
        "grid_search_rf = GridSearchCV(\n",
        "    estimator=rf,\n",
        "    param_grid=param_grid_rf,\n",
        "    cv=5,\n",
        "    scoring='accuracy',\n",
        "    n_jobs=-1,\n",
        "    verbose=1\n",
        ")\n",
        "\n",
        "# Jalankan grid search\n",
        "grid_search_rf.fit(X_train, y_train)\n",
        "\n",
        "# Ambil model terbaik\n",
        "best_rf = grid_search_rf.best_estimator_\n",
        "print(\"Best Parameters:\", grid_search_rf.best_params_)\n",
        "print(\"Best Cross-Validation Accuracy:\", grid_search_rf.best_score_)"
      ],
      "metadata": {
        "colab": {
          "base_uri": "https://localhost:8080/"
        },
        "id": "GFoxQ4JYKF-h",
        "outputId": "0c646060-9d6a-48ce-c140-384cc64c2109"
      },
      "execution_count": null,
      "outputs": [
        {
          "output_type": "stream",
          "name": "stdout",
          "text": [
            "Fitting 5 folds for each of 36 candidates, totalling 180 fits\n",
            "Best Parameters: {'max_depth': None, 'min_samples_leaf': 1, 'min_samples_split': 5, 'n_estimators': 150}\n",
            "Best Cross-Validation Accuracy: 0.7675000000000001\n"
          ]
        }
      ]
    },
    {
      "cell_type": "markdown",
      "source": [
        "Model Terbaik - Random Forest"
      ],
      "metadata": {
        "id": "nMRbM_lExRgy"
      }
    },
    {
      "cell_type": "code",
      "source": [
        "from sklearn.ensemble import RandomForestClassifier\n",
        "from sklearn.model_selection import RandomizedSearchCV\n",
        "from sklearn.metrics import accuracy_score, classification_report, confusion_matrix\n",
        "import matplotlib.pyplot as plt\n",
        "import seaborn as sns\n",
        "import pandas as pd\n",
        "\n",
        "# Parameter untuk RandomizedSearchCV\n",
        "param_dist_rf = {\n",
        "    'n_estimators': [50, 100, 150, 200],\n",
        "    'max_depth': [None, 5, 10, 20],\n",
        "    'min_samples_split': [2, 5, 10],\n",
        "    'min_samples_leaf': [1, 2, 4],\n",
        "    'bootstrap': [True, False]\n",
        "}\n",
        "\n",
        "# Model dasar\n",
        "rf = RandomForestClassifier(random_state=42)\n",
        "\n",
        "# Randomized Search CV\n",
        "random_search_rf = RandomizedSearchCV(\n",
        "    estimator=rf,\n",
        "    param_distributions=param_dist_rf,\n",
        "    n_iter=20,\n",
        "    cv=5,\n",
        "    scoring='accuracy',\n",
        "    random_state=42,\n",
        "    n_jobs=-1,\n",
        "    verbose=1\n",
        ")\n",
        "\n",
        "# Latih model\n",
        "random_search_rf.fit(X_train, y_train)\n",
        "\n",
        "# Ambil model terbaik\n",
        "best_rf_random = random_search_rf.best_estimator_\n",
        "\n",
        "# Prediksi\n",
        "y_pred = best_rf_random.predict(X_test)\n",
        "\n",
        "# Evaluasi akurasi dan laporan klasifikasi\n",
        "acc = accuracy_score(y_test, y_pred)\n",
        "print(f\"Accuracy: {acc:.4f}\\n\")\n",
        "print(\"Classification Report:\")\n",
        "print(classification_report(y_test, y_pred, target_names=le.classes_))\n",
        "\n",
        "# Confusion Matrix\n",
        "cm = confusion_matrix(y_test, y_pred)\n",
        "\n",
        "# Visualisasi Confusion Matrix\n",
        "plt.figure(figsize=(6, 4))\n",
        "sns.heatmap(cm, annot=True, fmt=\"d\", cmap=\"Blues\", xticklabels=le.classes_, yticklabels=le.classes_)\n",
        "plt.title(\"Confusion Matrix - Random Forest\")\n",
        "plt.xlabel(\"Predicted\")\n",
        "plt.ylabel(\"Actual\")\n",
        "plt.tight_layout()\n",
        "plt.show()\n",
        "\n",
        "# Perbandingan aktual vs prediksi\n",
        "result_df = pd.DataFrame({\n",
        "    'Actual': le.inverse_transform(y_test),\n",
        "    'Predicted': le.inverse_transform(y_pred)\n",
        "})\n",
        "\n",
        "plt.figure(figsize=(6, 4))\n",
        "sns.countplot(data=result_df, x='Actual', hue='Predicted', palette='pastel')\n",
        "plt.title(\"Perbandingan Prediksi vs Aktual\")\n",
        "plt.ylabel(\"Jumlah\")\n",
        "plt.tight_layout()\n",
        "plt.show()"
      ],
      "metadata": {
        "colab": {
          "base_uri": "https://localhost:8080/",
          "height": 1000
        },
        "id": "UaGwWp4EMtim",
        "outputId": "e92b15ae-244e-4778-c0a5-a5a44ac30ed9"
      },
      "execution_count": null,
      "outputs": [
        {
          "output_type": "stream",
          "name": "stdout",
          "text": [
            "Fitting 5 folds for each of 20 candidates, totalling 100 fits\n",
            "Accuracy: 0.7250\n",
            "\n",
            "Classification Report:\n",
            "              precision    recall  f1-score   support\n",
            "\n",
            "       Cepat       0.81      0.80      0.81        65\n",
            "        Lama       0.69      0.63      0.66        52\n",
            "     Standar       0.68      0.72      0.70        83\n",
            "\n",
            "    accuracy                           0.72       200\n",
            "   macro avg       0.73      0.72      0.72       200\n",
            "weighted avg       0.73      0.72      0.72       200\n",
            "\n"
          ]
        },
        {
          "output_type": "display_data",
          "data": {
            "text/plain": [
              "<Figure size 600x400 with 2 Axes>"
            ],
            "image/png": "[encoded data removed]"
          },
          "metadata": {}
        },
        {
          "output_type": "display_data",
          "data": {
            "text/plain": [
              "<Figure size 600x400 with 1 Axes>"
            ],
            "image/png": "[encoded data removed]"
          },
          "metadata": {}
        }
      ]
    },
    {
      "cell_type": "code",
      "source": [
        "import numpy as np\n",
        "\n",
        "# Ambil nama fitur dari dataset\n",
        "feature_names = X_train.columns\n",
        "\n",
        "# Ambil nilai importance dari model\n",
        "importances = best_rf_random.feature_importances_\n",
        "\n",
        "# Buat dataframe untuk visualisasi\n",
        "feat_imp = pd.DataFrame({\n",
        "    'Feature': feature_names,\n",
        "    'Importance': importances\n",
        "}).sort_values(by='Importance', ascending=False)\n",
        "\n",
        "# Plot bar chart\n",
        "plt.figure(figsize=(8, 5))\n",
        "sns.barplot(x='Importance', y='Feature', data=feat_imp, palette='viridis')\n",
        "plt.title('Feature Importance - Random Forest')\n",
        "plt.xlabel('Tingkat Pentingnya Fitur')\n",
        "plt.ylabel('Nama Fitur')\n",
        "plt.tight_layout()\n",
        "plt.show()\n",
        "\n",
        "feat_imp.head(5)"
      ],
      "metadata": {
        "colab": {
          "base_uri": "https://localhost:8080/",
          "height": 696
        },
        "id": "V7d88KzXOwsv",
        "outputId": "1f4ef93e-f85e-4fe4-aa8c-0339d665f76d"
      },
      "execution_count": null,
      "outputs": [
        {
          "output_type": "display_data",
          "data": {
            "text/plain": [
              "<Figure size 800x500 with 1 Axes>"
            ],
            "image/png": "[encoded data removed]"
          },
          "metadata": {}
        },
        {
          "output_type": "execute_result",
          "data": {
            "text/plain": [
              "                  Feature  Importance\n",
              "0             Distance_km    0.627507\n",
              "1    Preparation_Time_min    0.144139\n",
              "2  Courier_Experience_yrs    0.067163\n",
              "7       Traffic_Level_Low    0.020809\n",
              "5           Weather_Snowy    0.016671"
            ],
            "text/html": [
              "\n",
              "  <div id=\"df-416b5070-edc7-4934-a216-f3f5518fb9e6\" class=\"colab-df-container\">\n",
              "    <div>\n",
              "<style scoped>\n",
              "    .dataframe tbody tr th:only-of-type {\n",
              "        vertical-align: middle;\n",
              "    }\n",
              "\n",
              "    .dataframe tbody tr th {\n",
              "        vertical-align: top;\n",
              "    }\n",
              "\n",
              "    .dataframe thead th {\n",
              "        text-align: right;\n",
              "    }\n",
              "</style>\n",
              "<table border=\"1\" class=\"dataframe\">\n",
              "  <thead>\n",
              "    <tr style=\"text-align: right;\">\n",
              "      <th></th>\n",
              "      <th>Feature</th>\n",
              "      <th>Importance</th>\n",
              "    </tr>\n",
              "  </thead>\n",
              "  <tbody>\n",
              "    <tr>\n",
              "      <th>0</th>\n",
              "      <td>Distance_km</td>\n",
              "      <td>0.627507</td>\n",
              "    </tr>\n",
              "    <tr>\n",
              "      <th>1</th>\n",
              "      <td>Preparation_Time_min</td>\n",
              "      <td>0.144139</td>\n",
              "    </tr>\n",
              "    <tr>\n",
              "      <th>2</th>\n",
              "      <td>Courier_Experience_yrs</td>\n",
              "      <td>0.067163</td>\n",
              "    </tr>\n",
              "    <tr>\n",
              "      <th>7</th>\n",
              "      <td>Traffic_Level_Low</td>\n",
              "      <td>0.020809</td>\n",
              "    </tr>\n",
              "    <tr>\n",
              "      <th>5</th>\n",
              "      <td>Weather_Snowy</td>\n",
              "      <td>0.016671</td>\n",
              "    </tr>\n",
              "  </tbody>\n",
              "</table>\n",
              "</div>\n",
              "    <div class=\"colab-df-buttons\">\n",
              "\n",
              "  <div class=\"colab-df-container\">\n",
              "    <button class=\"colab-df-convert\" onclick=\"convertToInteractive('df-416b5070-edc7-4934-a216-f3f5518fb9e6')\"\n",
              "            title=\"Convert this dataframe to an interactive table.\"\n",
              "            style=\"display:none;\">\n",
              "\n",
              "  <svg xmlns=\"http://www.w3.org/2000/svg\" height=\"24px\" viewBox=\"0 -960 960 960\">\n",
              "    <path d=\"M120-120v-720h720v720H120Zm60-500h600v-160H180v160Zm220 220h160v-160H400v160Zm0 220h160v-160H400v160ZM180-400h160v-160H180v160Zm440 0h160v-160H620v160ZM180-180h160v-160H180v160Zm440 0h160v-160H620v160Z\"/>\n",
              "  </svg>\n",
              "    </button>\n",
              "\n",
              "  <style>\n",
              "    .colab-df-container {\n",
              "      display:flex;\n",
              "      gap: 12px;\n",
              "    }\n",
              "\n",
              "    .colab-df-convert {\n",
              "      background-color: #E8F0FE;\n",
              "      border: none;\n",
              "      border-radius: 50%;\n",
              "      cursor: pointer;\n",
              "      display: none;\n",
              "      fill: #1967D2;\n",
              "      height: 32px;\n",
              "      padding: 0 0 0 0;\n",
              "      width: 32px;\n",
              "    }\n",
              "\n",
              "    .colab-df-convert:hover {\n",
              "      background-color: #E2EBFA;\n",
              "      box-shadow: 0px 1px 2px rgba(60, 64, 67, 0.3), 0px 1px 3px 1px rgba(60, 64, 67, 0.15);\n",
              "      fill: #174EA6;\n",
              "    }\n",
              "\n",
              "    .colab-df-buttons div {\n",
              "      margin-bottom: 4px;\n",
              "    }\n",
              "\n",
              "    [theme=dark] .colab-df-convert {\n",
              "      background-color: #3B4455;\n",
              "      fill: #D2E3FC;\n",
              "    }\n",
              "\n",
              "    [theme=dark] .colab-df-convert:hover {\n",
              "      background-color: #434B5C;\n",
              "      box-shadow: 0px 1px 3px 1px rgba(0, 0, 0, 0.15);\n",
              "      filter: drop-shadow(0px 1px 2px rgba(0, 0, 0, 0.3));\n",
              "      fill: #FFFFFF;\n",
              "    }\n",
              "  </style>\n",
              "\n",
              "    <script>\n",
              "      const buttonEl =\n",
              "        document.querySelector('#df-416b5070-edc7-4934-a216-f3f5518fb9e6 button.colab-df-convert');\n",
              "      buttonEl.style.display =\n",
              "        google.colab.kernel.accessAllowed ? 'block' : 'none';\n",
              "\n",
              "      async function convertToInteractive(key) {\n",
              "        const element = document.querySelector('#df-416b5070-edc7-4934-a216-f3f5518fb9e6');\n",
              "        const dataTable =\n",
              "          await google.colab.kernel.invokeFunction('convertToInteractive',\n",
              "                                                    [key], {});\n",
              "        if (!dataTable) return;\n",
              "\n",
              "        const docLinkHtml = 'Like what you see? Visit the ' +\n",
              "          '<a target=\"_blank\" href=https://colab.research.google.com/notebooks/data_table.ipynb>data table notebook</a>'\n",
              "          + ' to learn more about interactive tables.';\n",
              "        element.innerHTML = '';\n",
              "        dataTable['output_type'] = 'display_data';\n",
              "        await google.colab.output.renderOutput(dataTable, element);\n",
              "        const docLink = document.createElement('div');\n",
              "        docLink.innerHTML = docLinkHtml;\n",
              "        element.appendChild(docLink);\n",
              "      }\n",
              "    </script>\n",
              "  </div>\n",
              "\n",
              "\n",
              "    <div id=\"df-800789b3-1204-4688-ae72-296d9f9ccc02\">\n",
              "      <button class=\"colab-df-quickchart\" onclick=\"quickchart('df-800789b3-1204-4688-ae72-296d9f9ccc02')\"\n",
              "                title=\"Suggest charts\"\n",
              "                style=\"display:none;\">\n",
              "\n",
              "<svg xmlns=\"http://www.w3.org/2000/svg\" height=\"24px\"viewBox=\"0 0 24 24\"\n",
              "     width=\"24px\">\n",
              "    <g>\n",
              "        <path d=\"M19 3H5c-1.1 0-2 .9-2 2v14c0 1.1.9 2 2 2h14c1.1 0 2-.9 2-2V5c0-1.1-.9-2-2-2zM9 17H7v-7h2v7zm4 0h-2V7h2v10zm4 0h-2v-4h2v4z\"/>\n",
              "    </g>\n",
              "</svg>\n",
              "      </button>\n",
              "\n",
              "<style>\n",
              "  .colab-df-quickchart {\n",
              "      --bg-color: #E8F0FE;\n",
              "      --fill-color: #1967D2;\n",
              "      --hover-bg-color: #E2EBFA;\n",
              "      --hover-fill-color: #174EA6;\n",
              "      --disabled-fill-color: #AAA;\n",
              "      --disabled-bg-color: #DDD;\n",
              "  }\n",
              "\n",
              "  [theme=dark] .colab-df-quickchart {\n",
              "      --bg-color: #3B4455;\n",
              "      --fill-color: #D2E3FC;\n",
              "      --hover-bg-color: #434B5C;\n",
              "      --hover-fill-color: #FFFFFF;\n",
              "      --disabled-bg-color: #3B4455;\n",
              "      --disabled-fill-color: #666;\n",
              "  }\n",
              "\n",
              "  .colab-df-quickchart {\n",
              "    background-color: var(--bg-color);\n",
              "    border: none;\n",
              "    border-radius: 50%;\n",
              "    cursor: pointer;\n",
              "    display: none;\n",
              "    fill: var(--fill-color);\n",
              "    height: 32px;\n",
              "    padding: 0;\n",
              "    width: 32px;\n",
              "  }\n",
              "\n",
              "  .colab-df-quickchart:hover {\n",
              "    background-color: var(--hover-bg-color);\n",
              "    box-shadow: 0 1px 2px rgba(60, 64, 67, 0.3), 0 1px 3px 1px rgba(60, 64, 67, 0.15);\n",
              "    fill: var(--button-hover-fill-color);\n",
              "  }\n",
              "\n",
              "  .colab-df-quickchart-complete:disabled,\n",
              "  .colab-df-quickchart-complete:disabled:hover {\n",
              "    background-color: var(--disabled-bg-color);\n",
              "    fill: var(--disabled-fill-color);\n",
              "    box-shadow: none;\n",
              "  }\n",
              "\n",
              "  .colab-df-spinner {\n",
              "    border: 2px solid var(--fill-color);\n",
              "    border-color: transparent;\n",
              "    border-bottom-color: var(--fill-color);\n",
              "    animation:\n",
              "      spin 1s steps(1) infinite;\n",
              "  }\n",
              "\n",
              "  @keyframes spin {\n",
              "    0% {\n",
              "      border-color: transparent;\n",
              "      border-bottom-color: var(--fill-color);\n",
              "      border-left-color: var(--fill-color);\n",
              "    }\n",
              "    20% {\n",
              "      border-color: transparent;\n",
              "      border-left-color: var(--fill-color);\n",
              "      border-top-color: var(--fill-color);\n",
              "    }\n",
              "    30% {\n",
              "      border-color: transparent;\n",
              "      border-left-color: var(--fill-color);\n",
              "      border-top-color: var(--fill-color);\n",
              "      border-right-color: var(--fill-color);\n",
              "    }\n",
              "    40% {\n",
              "      border-color: transparent;\n",
              "      border-right-color: var(--fill-color);\n",
              "      border-top-color: var(--fill-color);\n",
              "    }\n",
              "    60% {\n",
              "      border-color: transparent;\n",
              "      border-right-color: var(--fill-color);\n",
              "    }\n",
              "    80% {\n",
              "      border-color: transparent;\n",
              "      border-right-color: var(--fill-color);\n",
              "      border-bottom-color: var(--fill-color);\n",
              "    }\n",
              "    90% {\n",
              "      border-color: transparent;\n",
              "      border-bottom-color: var(--fill-color);\n",
              "    }\n",
              "  }\n",
              "</style>\n",
              "\n",
              "      <script>\n",
              "        async function quickchart(key) {\n",
              "          const quickchartButtonEl =\n",
              "            document.querySelector('#' + key + ' button');\n",
              "          quickchartButtonEl.disabled = true;  // To prevent multiple clicks.\n",
              "          quickchartButtonEl.classList.add('colab-df-spinner');\n",
              "          try {\n",
              "            const charts = await google.colab.kernel.invokeFunction(\n",
              "                'suggestCharts', [key], {});\n",
              "          } catch (error) {\n",
              "            console.error('Error during call to suggestCharts:', error);\n",
              "          }\n",
              "          quickchartButtonEl.classList.remove('colab-df-spinner');\n",
              "          quickchartButtonEl.classList.add('colab-df-quickchart-complete');\n",
              "        }\n",
              "        (() => {\n",
              "          let quickchartButtonEl =\n",
              "            document.querySelector('#df-800789b3-1204-4688-ae72-296d9f9ccc02 button');\n",
              "          quickchartButtonEl.style.display =\n",
              "            google.colab.kernel.accessAllowed ? 'block' : 'none';\n",
              "        })();\n",
              "      </script>\n",
              "    </div>\n",
              "\n",
              "    </div>\n",
              "  </div>\n"
            ],
            "application/vnd.google.colaboratory.intrinsic+json": {
              "type": "dataframe",
              "variable_name": "feat_imp",
              "summary": "{\n  \"name\": \"feat_imp\",\n  \"rows\": 14,\n  \"fields\": [\n    {\n      \"column\": \"Feature\",\n      \"properties\": {\n        \"dtype\": \"string\",\n        \"num_unique_values\": 14,\n        \"samples\": [\n          \"Weather_Windy\",\n          \"Vehicle_Type_Scooter\",\n          \"Distance_km\"\n        ],\n        \"semantic_type\": \"\",\n        \"description\": \"\"\n      }\n    },\n    {\n      \"column\": \"Importance\",\n      \"properties\": {\n        \"dtype\": \"number\",\n        \"std\": 0.16410081715987343,\n        \"min\": 0.009063364269611485,\n        \"max\": 0.6275074017571727,\n        \"num_unique_values\": 14,\n        \"samples\": [\n          0.013796418088575837,\n          0.012888732697333899,\n          0.6275074017571727\n        ],\n        \"semantic_type\": \"\",\n        \"description\": \"\"\n      }\n    }\n  ]\n}"
            }
          },
          "metadata": {},
          "execution_count": 25
        }
      ]
    },
    {
      "cell_type": "code",
      "source": [
        "df.to_csv('delivery_food.csv', index=False)"
      ],
      "metadata": {
        "id": "jnaFk9zIwjcz"
      },
      "execution_count": null,
      "outputs": []
    },
    {
      "cell_type": "code",
      "source": [
        "from google.colab import files\n",
        "files.download('delivery_food.csv')"
      ],
      "metadata": {
        "id": "q-Ugwt6owsuI",
        "outputId": "20f531ab-889f-45b2-90b1-5914a71858b2",
        "colab": {
          "base_uri": "https://localhost:8080/",
          "height": 17
        }
      },
      "execution_count": null,
      "outputs": [
        {
          "output_type": "display_data",
          "data": {
            "text/plain": [
              "<IPython.core.display.Javascript object>"
            ],
            "application/javascript": [
              "\n",
              "    async function download(id, filename, size) {\n",
              "      if (!google.colab.kernel.accessAllowed) {\n",
              "        return;\n",
              "      }\n",
              "      const div = document.createElement('div');\n",
              "      const label = document.createElement('label');\n",
              "      label.textContent = `Downloading \"${filename}\": `;\n",
              "      div.appendChild(label);\n",
              "      const progress = document.createElement('progress');\n",
              "      progress.max = size;\n",
              "      div.appendChild(progress);\n",
              "      document.body.appendChild(div);\n",
              "\n",
              "      const buffers = [];\n",
              "      let downloaded = 0;\n",
              "\n",
              "      const channel = await google.colab.kernel.comms.open(id);\n",
              "      // Send a message to notify the kernel that we're ready.\n",
              "      channel.send({})\n",
              "\n",
              "      for await (const message of channel.messages) {\n",
              "        // Send a message to notify the kernel that we're ready.\n",
              "        channel.send({})\n",
              "        if (message.buffers) {\n",
              "          for (const buffer of message.buffers) {\n",
              "            buffers.push(buffer);\n",
              "            downloaded += buffer.byteLength;\n",
              "            progress.value = downloaded;\n",
              "          }\n",
              "        }\n",
              "      }\n",
              "      const blob = new Blob(buffers, {type: 'application/binary'});\n",
              "      const a = document.createElement('a');\n",
              "      a.href = window.URL.createObjectURL(blob);\n",
              "      a.download = filename;\n",
              "      div.appendChild(a);\n",
              "      a.click();\n",
              "      div.remove();\n",
              "    }\n",
              "  "
            ]
          },
          "metadata": {}
        },
        {
          "output_type": "display_data",
          "data": {
            "text/plain": [
              "<IPython.core.display.Javascript object>"
            ],
            "application/javascript": [
              "download(\"download_2211d629-2afd-4952-951e-d31ca21bff9a\", \"delivery_food.csv\", 44200)"
            ]
          },
          "metadata": {}
        }
      ]
    }
  ]
}